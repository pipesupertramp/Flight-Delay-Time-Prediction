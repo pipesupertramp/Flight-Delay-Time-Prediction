{
 "cells": [
  {
   "cell_type": "code",
   "execution_count": 347,
   "id": "222a0cba-7f44-46a6-a724-1be2f099b15f",
   "metadata": {},
   "outputs": [],
   "source": [
    "import pandas as pd\n",
    "import statsmodels.api as sm\n",
    "import matplotlib.pyplot as plt\n",
    "import numpy as np\n",
    "import xgboost as xgb\n",
    "import pickle \n",
    "\n",
    "from sklearn.metrics import mean_squared_error\n",
    "from sklearn import preprocessing\n",
    "from sklearn.linear_model import LinearRegression\n",
    "from sklearn.feature_selection import RFECV\n",
    "from sklearn.model_selection import train_test_split, cross_val_score, KFold\n",
    "from sklearn.metrics import accuracy_score, precision_score, recall_score, f1_score, r2_score, mean_absolute_error"
   ]
  },
  {
   "cell_type": "markdown",
   "id": "70f61a98-98ee-4c12-b09f-4f784c9bf0bd",
   "metadata": {},
   "source": [
    "### Linear Regression Function"
   ]
  },
  {
   "cell_type": "markdown",
   "id": "dccba7fa-b91d-4571-bbbe-29834cc4abb8",
   "metadata": {},
   "source": [
    "This function will automatically do 3 things:\n",
    "\n",
    "1. run a linear regression with cross validation to attempt to find the optimal number of features to use\n",
    "2. run Sklearn Linear Regression model on the data returned by the previous function2\n",
    "3. run statsmodels linear regression model on the same dataset "
   ]
  },
  {
   "cell_type": "markdown",
   "id": "c0c2202c-6a59-441e-9ee6-7ee97ed0d4e0",
   "metadata": {},
   "source": [
    "#### How to run it"
   ]
  },
  {
   "cell_type": "markdown",
   "id": "f63c3bb3-c129-44cb-9e68-50a1e36d122b",
   "metadata": {},
   "source": [
    "1. import either the flight data with weather or the flight data without it\n",
    "2. run the linear_regression function with your df as a parameter"
   ]
  },
  {
   "cell_type": "code",
   "execution_count": 374,
   "id": "eced6457-2933-477b-8322-39613dfd0368",
   "metadata": {},
   "outputs": [],
   "source": [
    "def linear_regression(df):\n",
    "    '''This function performs linear regression on the dataset using Sklearn and Statsmodels. It will first perform feature selection \n",
    "    using cross validation before fitting the models'''\n",
    "    \n",
    "    columns = df.columns.values.tolist()\n",
    "    \n",
    "    #Separating the target and test data\n",
    "    X =  df.drop([\"total_delay\"], axis = 1)\n",
    "    y = df['total_delay']\n",
    "\n",
    "    #normalize X\n",
    "    X = preprocessing.StandardScaler().fit(X).transform(X.astype(float))\n",
    "\n",
    "    X_train, X_test, y_train, y_test = train_test_split(X, y, test_size=0.3) \n",
    "    \n",
    "    #select features to train with\n",
    "    print(\"USING SKLEARN\")\n",
    "    X_train_sklearn, X_test_sklearn = feature_selection(X_train, y_train, X_test)\n",
    "\n",
    "    X_train_sklearn, X_test_sklearn = X_train, X_test\n",
    "    \n",
    "    #fit sklearn linear regrssion model\n",
    "    reg = LinearRegression().fit(X_train_sklearn, y_train)\n",
    "    \n",
    "    preds = reg.predict(X_test_sklearn)\n",
    "    \n",
    "    score = reg.score(X_train_sklearn, y_train)\n",
    "\n",
    "    if score > 0.008:\n",
    "        with open(\"C:/Users/Peter/Documents/GitHub/Midterm_Project/Data/sklearn_model.pickle\", \"wb\") as handle:\n",
    "            pickle.dump(reg, handle)\n",
    "    \n",
    "    print('sklearn rscore on training data ', score) \n",
    "    print('prediction of test: ', preds)\n",
    "    #using statsmodels\n",
    "    \n",
    "    #select features to train with\n",
    "    print(\"USING STATSMODELS\")\n",
    "    X_train_stats, X_test_stats = feature_selection(X_train, y_train, X_test)\n",
    "\n",
    "    X_train_stats = sm.add_constant(X_train_stats) # adding a constant\n",
    "    lin_reg = sm.OLS(y_train,X_train_stats) #create object that represents the regression\n",
    "    \n",
    "    model = lin_reg.fit()\n",
    "    \n",
    "    print_model = model.summary()\n",
    "    preds = model.predict(X_train_stats) \n",
    "    \n",
    "    stats_score = r2_score(y_train, preds)\n",
    "    if stats_score > 0.02:\n",
    "        statsmodels_score.append(model)\n",
    "    \n",
    "    print(print_model)\n",
    "    \n",
    "    "
   ]
  },
  {
   "cell_type": "code",
   "execution_count": 349,
   "id": "5fcdea1a-a810-4de8-8a3d-1996672442d7",
   "metadata": {},
   "outputs": [],
   "source": [
    "def feature_selection(X_train, y_train, X_test):\n",
    "    '''This function uses recursive feature selection and cross validation to select features. It will return X_train and X_test datasets \n",
    "    with only the optimal features'''\n",
    "    \n",
    "    #Feature selection\n",
    "    clf = LinearRegression() \n",
    "\n",
    "    #cross validation and recursive feature selection\n",
    "    feature_selector = RFECV(clf)\n",
    "\n",
    "    fit = feature_selector.fit(X_train,y_train)\n",
    "\n",
    "    optimal_feature_count = feature_selector.n_features_\n",
    "    print(f\"Optimal number of features: {optimal_feature_count}\")\n",
    "\n",
    "    df_X_train = pd.DataFrame(X_train)\n",
    "    df_X_train = df_X_train.loc[:, feature_selector.get_support()]\n",
    "\n",
    "    df_X_test  = pd.DataFrame(X_test)\n",
    "    df_X_test  = df_X_test.loc[:, feature_selector.get_support()]\n",
    "    \n",
    "    print(\"Selected Features = \", df_X_train.columns)\n",
    "    print(\"Selected Features = \", df_X_test.columns)\n",
    "    \n",
    "    plt.plot(range(1,len(fit.grid_scores_) + 1), fit.grid_scores_, marker = \"o\")\n",
    "    plt.ylabel(\"Model Score\")\n",
    "    plt.xlabel(\"Number of Features\")\n",
    "    plt.title(f\"Feature Selection using RFE \\n Optimal number of features is {optimal_feature_count} (at score of {round(max(fit.grid_scores_),4)})\" )\n",
    "    plt.tight_layout()\n",
    "    plt.show()\n",
    "    \n",
    "    return(df_X_train.to_numpy(), df_X_test.to_numpy())\n",
    "    \n",
    "    "
   ]
  },
  {
   "cell_type": "code",
   "execution_count": 350,
   "id": "34c54dd5-75f0-45f0-af26-76a6ceae5137",
   "metadata": {},
   "outputs": [],
   "source": [
    "def XGBoost(df):\n",
    "    '''This function performs XGBoost and prints the MAE, RMAE, and Rscore'''\n",
    "    \n",
    "    X = df.drop('total_delay', axis=1)\n",
    "    y = df.total_delay\n",
    "    \n",
    "    data_dmatrix = xgb.DMatrix(data=X,label=y)\n",
    "    \n",
    "    X_train, X_test, y_train, y_test = train_test_split(X, y, test_size=0.2)\n",
    "    \n",
    "    xg_reg = xgb.XGBRegressor(objective ='reg:linear', colsample_bytree = 0.3, learning_rate = 0.1, max_depth = 1, alpha = 10, n_estimators = 2)\n",
    "    #default params: max_depth 5, estimators 10 learning rate 0.1\n",
    "    \n",
    "    xg_reg.fit(X_train,y_train)\n",
    "\n",
    "    preds = xg_reg.predict(X_test)\n",
    "    \n",
    "    rmse = np.sqrt(mean_squared_error(y_test, preds))\n",
    "    print(\"RMSE: %f\" % (rmse))\n",
    "    \n",
    "    params = {\"objective\":\"reg:linear\",'colsample_bytree': 0.3,'learning_rate': 0.1, 'max_depth': 5, 'alpha': 10}\n",
    "\n",
    "    cv_results = xgb.cv(dtrain=data_dmatrix, params=params, nfold=3, num_boost_round=50,early_stopping_rounds=10,metrics=\"rmse\", as_pandas=True)\n",
    "    \n",
    "    \n",
    "    \n",
    "    xg_reg = xgb.train(params=params, dtrain=data_dmatrix, num_boost_round=10)\n",
    "    \n",
    "    xgb.plot_importance(xg_reg)\n",
    "    plt.rcParams['figure.figsize'] = [5, 5]\n",
    "    plt.show()\n",
    "    \n",
    "    print(\"R2 Score \", r2_score(y_test, preds))\n",
    "    print(\"MAE: \", mean_absolute_error(y_test, preds))\n",
    "    print(\"RMSE: \", cv_results[\"test-rmse-mean\"].tail(1))\n",
    "    "
   ]
  },
  {
   "cell_type": "code",
   "execution_count": 394,
   "id": "697728a0-e5d8-4a31-8a1d-ea46035a1c7b",
   "metadata": {},
   "outputs": [],
   "source": [
    "def run_model(df, model):\n",
    "    df = preprocessing.StandardScaler().fit(df).transform(df.astype(float))\n",
    "    preds = model.predict(df)\n",
    "    df['predicted_delay'] = preds\n",
    "    return(df)\n",
    "    "
   ]
  },
  {
   "cell_type": "code",
   "execution_count": 383,
   "id": "1b57f39c-04d1-4f92-85d9-ba967876bea6",
   "metadata": {},
   "outputs": [],
   "source": [
    "sklearn_score = [] #lists to hold our models\n",
    "statsmodels_score = []\n",
    "\n",
    "df_cmplt = pd.read_csv(\"C:/Users/Peter/Desktop/df_complete.csv\")\n",
    "df_t = pd.read_csv(\"C:/Users/Peter/Desktop/df_test_complete.csv\")"
   ]
  },
  {
   "cell_type": "code",
   "execution_count": 391,
   "id": "2088905a-6f53-4dfb-bb39-25b52abfdb41",
   "metadata": {},
   "outputs": [],
   "source": [
    "df = df_cmplt.copy()\n",
    "df.drop(['Unnamed: 0', 'dep_weather', 'arr_weather', 'fl_date', 'mkt_unique_carrier', 'branded_code_share', 'mkt_carrier', 'mkt_carrier_fl_num', 'op_unique_carrier', 'tail_num', 'op_carrier_fl_num', 'origin_airport_id', 'origin', 'origin_city_name', 'dest_airport_id', 'dest', 'dest_city_name', 'crs_dep_time', 'crs_arr_time', 'dup', 'crs_elapsed_time', 'flights'], axis=1, inplace=True)"
   ]
  },
  {
   "cell_type": "code",
   "execution_count": 393,
   "id": "b3ab705c-7ad3-4ef6-bb0a-94f257749bc8",
   "metadata": {},
   "outputs": [],
   "source": [
    "df = df_t.copy()\n",
    "df.set_index('index', inplace=True)\n",
    "df.drop(['dep_weather', 'arr_weather', 'fl_date', 'mkt_unique_carrier', 'branded_code_share', 'mkt_carrier', 'mkt_carrier_fl_num', 'op_unique_carrier', 'tail_num', 'op_carrier_fl_num', 'origin_airport_id', 'origin', 'origin_city_name', 'dest_airport_id', 'dest', 'dest_city_name', 'crs_dep_time', 'crs_arr_time', 'dup', 'crs_elapsed_time', 'flights'], axis=1, inplace=True)"
   ]
  },
  {
   "cell_type": "code",
   "execution_count": 389,
   "id": "1c182264-86d7-4eae-bd2e-21f132ab6b01",
   "metadata": {},
   "outputs": [
    {
     "data": {
      "text/html": [
       "<div>\n",
       "<style scoped>\n",
       "    .dataframe tbody tr th:only-of-type {\n",
       "        vertical-align: middle;\n",
       "    }\n",
       "\n",
       "    .dataframe tbody tr th {\n",
       "        vertical-align: top;\n",
       "    }\n",
       "\n",
       "    .dataframe thead th {\n",
       "        text-align: right;\n",
       "    }\n",
       "</style>\n",
       "<table border=\"1\" class=\"dataframe\">\n",
       "  <thead>\n",
       "    <tr style=\"text-align: right;\">\n",
       "      <th></th>\n",
       "      <th>distance</th>\n",
       "      <th>dep_weather_rank</th>\n",
       "      <th>arr_weather_rank</th>\n",
       "      <th>datetime</th>\n",
       "      <th>origin_airport_freq</th>\n",
       "      <th>dest_airport_freq</th>\n",
       "    </tr>\n",
       "    <tr>\n",
       "      <th>index</th>\n",
       "      <th></th>\n",
       "      <th></th>\n",
       "      <th></th>\n",
       "      <th></th>\n",
       "      <th></th>\n",
       "      <th></th>\n",
       "    </tr>\n",
       "  </thead>\n",
       "  <tbody>\n",
       "    <tr>\n",
       "      <th>30751</th>\n",
       "      <td>239</td>\n",
       "      <td>1</td>\n",
       "      <td>1</td>\n",
       "      <td>2020-01-22</td>\n",
       "      <td>1</td>\n",
       "      <td>2</td>\n",
       "    </tr>\n",
       "    <tr>\n",
       "      <th>28673</th>\n",
       "      <td>580</td>\n",
       "      <td>1</td>\n",
       "      <td>1</td>\n",
       "      <td>2020-01-26</td>\n",
       "      <td>2</td>\n",
       "      <td>2</td>\n",
       "    </tr>\n",
       "    <tr>\n",
       "      <th>15004</th>\n",
       "      <td>404</td>\n",
       "      <td>1</td>\n",
       "      <td>1</td>\n",
       "      <td>2020-01-09</td>\n",
       "      <td>2</td>\n",
       "      <td>4</td>\n",
       "    </tr>\n",
       "    <tr>\n",
       "      <th>15412</th>\n",
       "      <td>616</td>\n",
       "      <td>2</td>\n",
       "      <td>1</td>\n",
       "      <td>2020-01-10</td>\n",
       "      <td>2</td>\n",
       "      <td>4</td>\n",
       "    </tr>\n",
       "    <tr>\n",
       "      <th>22207</th>\n",
       "      <td>937</td>\n",
       "      <td>1</td>\n",
       "      <td>1</td>\n",
       "      <td>2020-01-21</td>\n",
       "      <td>4</td>\n",
       "      <td>4</td>\n",
       "    </tr>\n",
       "    <tr>\n",
       "      <th>...</th>\n",
       "      <td>...</td>\n",
       "      <td>...</td>\n",
       "      <td>...</td>\n",
       "      <td>...</td>\n",
       "      <td>...</td>\n",
       "      <td>...</td>\n",
       "    </tr>\n",
       "    <tr>\n",
       "      <th>11516</th>\n",
       "      <td>842</td>\n",
       "      <td>2</td>\n",
       "      <td>1</td>\n",
       "      <td>2020-01-03</td>\n",
       "      <td>2</td>\n",
       "      <td>1</td>\n",
       "    </tr>\n",
       "    <tr>\n",
       "      <th>24505</th>\n",
       "      <td>829</td>\n",
       "      <td>1</td>\n",
       "      <td>2</td>\n",
       "      <td>2020-01-24</td>\n",
       "      <td>2</td>\n",
       "      <td>1</td>\n",
       "    </tr>\n",
       "    <tr>\n",
       "      <th>3360</th>\n",
       "      <td>879</td>\n",
       "      <td>2</td>\n",
       "      <td>1</td>\n",
       "      <td>2020-01-27</td>\n",
       "      <td>1</td>\n",
       "      <td>1</td>\n",
       "    </tr>\n",
       "    <tr>\n",
       "      <th>33212</th>\n",
       "      <td>446</td>\n",
       "      <td>1</td>\n",
       "      <td>1</td>\n",
       "      <td>2020-01-10</td>\n",
       "      <td>1</td>\n",
       "      <td>1</td>\n",
       "    </tr>\n",
       "    <tr>\n",
       "      <th>7883</th>\n",
       "      <td>224</td>\n",
       "      <td>2</td>\n",
       "      <td>2</td>\n",
       "      <td>2020-01-28</td>\n",
       "      <td>1</td>\n",
       "      <td>1</td>\n",
       "    </tr>\n",
       "  </tbody>\n",
       "</table>\n",
       "<p>100 rows × 6 columns</p>\n",
       "</div>"
      ],
      "text/plain": [
       "       distance  dep_weather_rank  arr_weather_rank    datetime  \\\n",
       "index                                                             \n",
       "30751       239                 1                 1  2020-01-22   \n",
       "28673       580                 1                 1  2020-01-26   \n",
       "15004       404                 1                 1  2020-01-09   \n",
       "15412       616                 2                 1  2020-01-10   \n",
       "22207       937                 1                 1  2020-01-21   \n",
       "...         ...               ...               ...         ...   \n",
       "11516       842                 2                 1  2020-01-03   \n",
       "24505       829                 1                 2  2020-01-24   \n",
       "3360        879                 2                 1  2020-01-27   \n",
       "33212       446                 1                 1  2020-01-10   \n",
       "7883        224                 2                 2  2020-01-28   \n",
       "\n",
       "       origin_airport_freq  dest_airport_freq  \n",
       "index                                          \n",
       "30751                    1                  2  \n",
       "28673                    2                  2  \n",
       "15004                    2                  4  \n",
       "15412                    2                  4  \n",
       "22207                    4                  4  \n",
       "...                    ...                ...  \n",
       "11516                    2                  1  \n",
       "24505                    2                  1  \n",
       "3360                     1                  1  \n",
       "33212                    1                  1  \n",
       "7883                     1                  1  \n",
       "\n",
       "[100 rows x 6 columns]"
      ]
     },
     "execution_count": 389,
     "metadata": {},
     "output_type": "execute_result"
    }
   ],
   "source": [
    "df"
   ]
  },
  {
   "cell_type": "code",
   "execution_count": 392,
   "id": "87c2662a-a04b-41d4-a003-419f5a0d1ecb",
   "metadata": {},
   "outputs": [
    {
     "name": "stdout",
     "output_type": "stream",
     "text": [
      "[11:44:46] WARNING: C:/Users/Administrator/workspace/xgboost-win64_release_1.1.0/src/objective/regression_obj.cu:170: reg:linear is now deprecated in favor of reg:squarederror.\n",
      "[11:44:46] WARNING: C:/Users/Administrator/workspace/xgboost-win64_release_1.1.0/src/objective/regression_obj.cu:170: reg:linear is now deprecated in favor of reg:squarederror.\n",
      "RMSE: 41.877295\n",
      "[11:44:46] WARNING: C:/Users/Administrator/workspace/xgboost-win64_release_1.1.0/src/objective/regression_obj.cu:170: reg:linear is now deprecated in favor of reg:squarederror.\n",
      "[11:44:46] WARNING: C:/Users/Administrator/workspace/xgboost-win64_release_1.1.0/src/objective/regression_obj.cu:170: reg:linear is now deprecated in favor of reg:squarederror.\n",
      "[11:44:46] WARNING: C:/Users/Administrator/workspace/xgboost-win64_release_1.1.0/src/objective/regression_obj.cu:170: reg:linear is now deprecated in favor of reg:squarederror.\n",
      "[11:44:46] WARNING: C:/Users/Administrator/workspace/xgboost-win64_release_1.1.0/src/objective/regression_obj.cu:170: reg:linear is now deprecated in favor of reg:squarederror.\n",
      "[11:44:46] WARNING: C:/Users/Administrator/workspace/xgboost-win64_release_1.1.0/src/objective/regression_obj.cu:170: reg:linear is now deprecated in favor of reg:squarederror.\n"
     ]
    },
    {
     "data": {
      "image/png": "[encoded data removed]",
      "text/plain": [
       "<Figure size 360x360 with 1 Axes>"
      ]
     },
     "metadata": {
      "needs_background": "light"
     },
     "output_type": "display_data"
    },
    {
     "name": "stdout",
     "output_type": "stream",
     "text": [
      "R2 Score  -0.045241909900972654\n",
      "MAE:  13.524321107149124\n",
      "RMSE:  19    46.021278\n",
      "Name: test-rmse-mean, dtype: float64\n"
     ]
    }
   ],
   "source": [
    "XGBoost(df)"
   ]
  },
  {
   "cell_type": "code",
   "execution_count": 375,
   "id": "f0179744-af51-425f-beaa-2760407023da",
   "metadata": {},
   "outputs": [
    {
     "name": "stdout",
     "output_type": "stream",
     "text": [
      "USING SKLEARN\n",
      "Optimal number of features: 16\n",
      "Selected Features =  Int64Index([0, 1, 2, 3, 4, 5, 6, 7, 8, 9, 10, 11, 13, 14, 15, 16], dtype='int64')\n",
      "Selected Features =  Int64Index([0, 1, 2, 3, 4, 5, 6, 7, 8, 9, 10, 11, 13, 14, 15, 16], dtype='int64')\n"
     ]
    },
    {
     "data": {
      "image/png": "[encoded data removed]",
      "text/plain": [
       "<Figure size 360x360 with 1 Axes>"
      ]
     },
     "metadata": {
      "needs_background": "light"
     },
     "output_type": "display_data"
    },
    {
     "name": "stdout",
     "output_type": "stream",
     "text": [
      "sklearn rscore on training data  0.015845504918971742\n",
      "prediction of test:  [14.21497809 -2.39133055  6.65858532 ... 13.15091331 15.43456402\n",
      " 15.49568381]\n",
      "USING STATSMODELS\n",
      "Optimal number of features: 16\n",
      "Selected Features =  Int64Index([0, 1, 2, 3, 4, 5, 6, 7, 8, 9, 10, 11, 13, 14, 15, 16], dtype='int64')\n",
      "Selected Features =  Int64Index([0, 1, 2, 3, 4, 5, 6, 7, 8, 9, 10, 11, 13, 14, 15, 16], dtype='int64')\n"
     ]
    },
    {
     "data": {
      "image/png": "[encoded data removed]",
      "text/plain": [
       "<Figure size 360x360 with 1 Axes>"
      ]
     },
     "metadata": {
      "needs_background": "light"
     },
     "output_type": "display_data"
    },
    {
     "name": "stdout",
     "output_type": "stream",
     "text": [
      "                            OLS Regression Results                            \n",
      "==============================================================================\n",
      "Dep. Variable:            total_delay   R-squared:                       0.016\n",
      "Model:                            OLS   Adj. R-squared:                  0.014\n",
      "Method:                 Least Squares   F-statistic:                     7.027\n",
      "Date:                Fri, 24 Sep 2021   Prob (F-statistic):           2.18e-16\n",
      "Time:                        11:38:44   Log-Likelihood:                -36875.\n",
      "No. Observations:                7000   AIC:                         7.378e+04\n",
      "Df Residuals:                    6983   BIC:                         7.390e+04\n",
      "Df Model:                          16                                         \n",
      "Covariance Type:            nonrobust                                         \n",
      "==============================================================================\n",
      "                 coef    std err          t      P>|t|      [0.025      0.975]\n",
      "------------------------------------------------------------------------------\n",
      "const         12.8976      0.562     22.949      0.000      11.796      13.999\n",
      "x1            -0.5350      0.947     -0.565      0.572      -2.391       1.321\n",
      "x2             1.1151      0.678      1.645      0.100      -0.213       2.444\n",
      "x3            -0.0882      0.560     -0.157      0.875      -1.187       1.010\n",
      "x4            -1.0540      0.675     -1.563      0.118      -2.376       0.268\n",
      "x5             2.8630      0.566      5.056      0.000       1.753       3.973\n",
      "x6             2.4803      0.634      3.911      0.000       1.237       3.724\n",
      "x7            -3.2106      0.651     -4.930      0.000      -4.487      -1.934\n",
      "x8             2.1945      0.583      3.764      0.000       1.052       3.337\n",
      "x9            -0.9891      0.930     -1.064      0.287      -2.811       0.833\n",
      "x10           10.0037      6.787      1.474      0.141      -3.302      23.309\n",
      "x11           -3.6627      6.840     -0.535      0.592     -17.071       9.746\n",
      "x12           -1.9307      1.952     -0.989      0.323      -5.756       1.895\n",
      "x13            3.1984      0.579      5.528      0.000       2.064       4.333\n",
      "x14            1.5032      0.566      2.656      0.008       0.394       2.612\n",
      "x15           -7.7255      7.209     -1.072      0.284     -21.858       6.407\n",
      "x16            4.1820      6.834      0.612      0.541      -9.215      17.579\n",
      "==============================================================================\n",
      "Omnibus:                    11407.460   Durbin-Watson:                   2.008\n",
      "Prob(Omnibus):                  0.000   Jarque-Bera (JB):         11609381.604\n",
      "Skew:                          10.611   Prob(JB):                         0.00\n",
      "Kurtosis:                     201.376   Cond. No.                         33.1\n",
      "==============================================================================\n",
      "\n",
      "Notes:\n",
      "[1] Standard Errors assume that the covariance matrix of the errors is correctly specified.\n"
     ]
    }
   ],
   "source": [
    "linear_regression(df)\n",
    "#random forest, KNN, XGBoost, They have regressors, make sure using regressors. "
   ]
  },
  {
   "cell_type": "code",
   "execution_count": 345,
   "id": "b40adf51-3d21-4d62-a526-f26508ddead2",
   "metadata": {},
   "outputs": [],
   "source": [
    "\n",
    "with open(\"C:/Users/Peter/Documents/GitHub/Midterm_Project/Data/sklearn_model.pickle\", \"wb\") as handle:\n",
    "    pickle.dump(sklearn_score[0], handle)"
   ]
  },
  {
   "cell_type": "code",
   "execution_count": 376,
   "id": "7b94f92a-3de6-4702-a34d-a42ff2ce1d8b",
   "metadata": {},
   "outputs": [],
   "source": [
    "with open('C:/Users/Peter/Documents/GitHub/Midterm_Project/Data/sklearn_model.pickle', 'rb') as handle:\n",
    "    model = pickle.load(handle)"
   ]
  },
  {
   "cell_type": "code",
   "execution_count": 377,
   "id": "172a456e-251b-416e-a16b-28e7fe155e33",
   "metadata": {},
   "outputs": [],
   "source": [
    "test = df.drop('total_delay', axis=1)"
   ]
  },
  {
   "cell_type": "code",
   "execution_count": 380,
   "id": "90c88c9a-0aba-4529-a40b-6d5b155b7095",
   "metadata": {},
   "outputs": [],
   "source": [
    "x = model.predict(test)"
   ]
  },
  {
   "cell_type": "code",
   "execution_count": null,
   "id": "50e05d6d-f89a-4d80-a7c6-57ca4ec1d857",
   "metadata": {},
   "outputs": [],
   "source": [
    "test = run_model(test, model)"
   ]
  },
  {
   "cell_type": "code",
   "execution_count": null,
   "id": "53940562-4a17-470b-8e92-0931bef87e10",
   "metadata": {},
   "outputs": [],
   "source": [
    "#pipeline is an sklearn module will help with debugging"
   ]
  },
  {
   "cell_type": "code",
   "execution_count": null,
   "id": "768172d9-ed96-446f-9d62-5232f49cf1db",
   "metadata": {},
   "outputs": [],
   "source": []
  }
 ],
 "metadata": {
  "kernelspec": {
   "display_name": "Python 3",
   "language": "python",
   "name": "python3"
  },
  "language_info": {
   "codemirror_mode": {
    "name": "ipython",
    "version": 3
   },
   "file_extension": ".py",
   "mimetype": "text/x-python",
   "name": "python",
   "nbconvert_exporter": "python",
   "pygments_lexer": "ipython3",
   "version": "3.8.8"
  }
 },
 "nbformat": 4,
 "nbformat_minor": 5
}
